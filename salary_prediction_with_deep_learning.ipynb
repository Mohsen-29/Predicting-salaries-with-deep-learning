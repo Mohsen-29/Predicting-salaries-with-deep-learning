{
  "cells": [
    {
      "cell_type": "code",
      "execution_count": 1,
      "metadata": {
        "id": "dfQ44v-52otT"
      },
      "outputs": [],
      "source": [
        "from sklearn.linear_model import LogisticRegression\n",
        "from sklearn import metrics\n",
        "from sklearn.metrics import accuracy_score\n",
        "import os\n",
        "import numpy as np\n",
        "import pandas as pd\n",
        "from sklearn.preprocessing import LabelEncoder\n",
        "from sklearn.model_selection import train_test_split \n",
        "import matplotlib.pyplot as plt\n",
        "import seaborn as sns\n",
        "import plotly.express as px\n",
        "import numpy as np\n",
        "from sklearn.model_selection import cross_val_score\n",
        "from imblearn.combine import SMOTETomek\n",
        "from imblearn.under_sampling import NearMiss\n",
        "from imblearn.over_sampling import SMOTE"
      ]
    },
    {
      "cell_type": "code",
      "execution_count": 2,
      "metadata": {
        "id": "lk1fY_CH2uRQ",
        "colab": {
          "base_uri": "https://localhost:8080/"
        },
        "outputId": "03fb0b0e-ccdd-4974-df86-dbe858a0145e"
      },
      "outputs": [
        {
          "output_type": "execute_result",
          "data": {
            "text/plain": [
              "<bound method NDFrame.head of        age          workclass  fnlwgt    education  education-num  \\\n",
              "0       39          State-gov   77516    Bachelors             13   \n",
              "1       50   Self-emp-not-inc   83311    Bachelors             13   \n",
              "2       38            Private  215646      HS-grad              9   \n",
              "3       53            Private  234721         11th              7   \n",
              "4       28            Private  338409    Bachelors             13   \n",
              "...    ...                ...     ...          ...            ...   \n",
              "32556   27            Private  257302   Assoc-acdm             12   \n",
              "32557   40            Private  154374      HS-grad              9   \n",
              "32558   58            Private  151910      HS-grad              9   \n",
              "32559   22            Private  201490      HS-grad              9   \n",
              "32560   52       Self-emp-inc  287927      HS-grad              9   \n",
              "\n",
              "            marital-status          occupation    relationship    race  \\\n",
              "0            Never-married        Adm-clerical   Not-in-family   White   \n",
              "1       Married-civ-spouse     Exec-managerial         Husband   White   \n",
              "2                 Divorced   Handlers-cleaners   Not-in-family   White   \n",
              "3       Married-civ-spouse   Handlers-cleaners         Husband   Black   \n",
              "4       Married-civ-spouse      Prof-specialty            Wife   Black   \n",
              "...                    ...                 ...             ...     ...   \n",
              "32556   Married-civ-spouse        Tech-support            Wife   White   \n",
              "32557   Married-civ-spouse   Machine-op-inspct         Husband   White   \n",
              "32558              Widowed        Adm-clerical       Unmarried   White   \n",
              "32559        Never-married        Adm-clerical       Own-child   White   \n",
              "32560   Married-civ-spouse     Exec-managerial            Wife   White   \n",
              "\n",
              "           sex  capital-gain  capital-loss  hours-per-week  native-country  \\\n",
              "0         Male          2174             0              40   United-States   \n",
              "1         Male             0             0              13   United-States   \n",
              "2         Male             0             0              40   United-States   \n",
              "3         Male             0             0              40   United-States   \n",
              "4       Female             0             0              40            Cuba   \n",
              "...        ...           ...           ...             ...             ...   \n",
              "32556   Female             0             0              38   United-States   \n",
              "32557     Male             0             0              40   United-States   \n",
              "32558   Female             0             0              40   United-States   \n",
              "32559     Male             0             0              20   United-States   \n",
              "32560   Female         15024             0              40   United-States   \n",
              "\n",
              "       target  \n",
              "0       <=50K  \n",
              "1       <=50K  \n",
              "2       <=50K  \n",
              "3       <=50K  \n",
              "4       <=50K  \n",
              "...       ...  \n",
              "32556   <=50K  \n",
              "32557    >50K  \n",
              "32558   <=50K  \n",
              "32559   <=50K  \n",
              "32560    >50K  \n",
              "\n",
              "[32561 rows x 15 columns]>"
            ]
          },
          "metadata": {},
          "execution_count": 2
        }
      ],
      "source": [
        "df=pd.read_csv(r'data1.csv')\n",
        "df.head"
      ]
    },
    {
      "cell_type": "code",
      "execution_count": null,
      "metadata": {
        "id": "TRfRFmh43Sqx"
      },
      "outputs": [],
      "source": [
        "#We start with data preprocessing\n",
        "df.drop(columns=['education','native-country'],inplace=True)"
      ]
    },
    {
      "cell_type": "code",
      "execution_count": null,
      "metadata": {
        "id": "e9mup9dloYn7"
      },
      "outputs": [],
      "source": [
        "df['occupation'].mask(df['occupation']==' Handlers-cleaners',\"House services\",inplace=True)\n",
        "df['occupation'].mask(df['occupation']==' Priv-house-serv',\"House services\",inplace=True)\n",
        "df['occupation'].mask(df['occupation']==' Adm-clerical',\"Technical job\",inplace=True)\n",
        "df['occupation'].mask(df['occupation']==' Tech-support',\"Technical job\",inplace=True)\n",
        "df['occupation'].mask(df['occupation']==' Machine-op-inspct',\"Technical job\",inplace=True)\n",
        "df['occupation'].mask(df['occupation']==' Protective-serv',\"Armed and protective services\",inplace=True)\n",
        "df['occupation'].mask(df['occupation']==' Armed-Forces',\"Armed and protective services\",inplace=True)\n",
        "df['occupation'].mask(df['occupation']==' Prof-specialty',\"Administrative and prof speciality\",inplace=True)\n",
        "df['occupation'].mask(df['occupation']==' Exec-managerial',\"Administrative and prof speciality\",inplace=True)\n",
        "df['occupation'].mask(df['occupation']==' Transport-moving',\"other\", inplace=True)\n",
        "df['occupation'].mask(df['occupation']==' ?',\"other\", inplace=True)\n",
        "df['occupation'].mask(df['occupation']==' Sales',\"other\", inplace=True)\n",
        "df['occupation'].mask(df['occupation']==' Farming-fishing',\"other\", inplace=True)\n",
        "df['occupation'].mask(df['occupation']==' Other-service',\"other\", inplace=True)\n",
        "df['occupation'].mask(df['occupation']==' Craft-repair',\"other\", inplace=True)"
      ]
    },
    {
      "cell_type": "code",
      "execution_count": null,
      "metadata": {
        "id": "4dAw6ZxloYn-"
      },
      "outputs": [],
      "source": [
        "df. rename(columns = {'target':'Salary'}, inplace = True)\n",
        "df['workclass'].mask(df['workclass']==' ?',\"other\", inplace=True)"
      ]
    },
    {
      "cell_type": "code",
      "execution_count": null,
      "metadata": {
        "id": "Bnjd_89JoYoA"
      },
      "outputs": [],
      "source": [
        "class_le = LabelEncoder()\n",
        "df['Salary']=class_le.fit_transform(df['Salary'].values)\n",
        "df['sex']=class_le.fit_transform(df['sex'].values)\n",
        "df=pd.get_dummies(df, columns=['workclass','marital-status','occupation','relationship','race'])"
      ]
    },
    {
      "cell_type": "code",
      "execution_count": null,
      "metadata": {
        "id": "80JAVavdoYoB"
      },
      "outputs": [],
      "source": [
        "#now we define the X variables and the output varible\n",
        "X=df.drop('Salary',axis=1)\n",
        "y=df['Salary']"
      ]
    },
    {
      "cell_type": "code",
      "execution_count": null,
      "metadata": {
        "colab": {
          "base_uri": "https://localhost:8080/"
        },
        "id": "j1Z3prihoYoE",
        "outputId": "9d34505c-0227-42e8-de8e-5588d8ee318e"
      },
      "outputs": [
        {
          "output_type": "execute_result",
          "data": {
            "text/plain": [
              "0    22213\n",
              "1    22213\n",
              "Name: Salary, dtype: int64"
            ]
          },
          "metadata": {},
          "execution_count": 141
        }
      ],
      "source": [
        "#we do oversamplig as the number of values in the output varibale for the salaries bigger than 50k are almost 1/3 of the\n",
        "#zero variable\n",
        "smk=SMOTETomek(random_state=42)\n",
        "X,y=smk.fit_resample(X,y)\n",
        "y.value_counts()"
      ]
    },
    {
      "cell_type": "code",
      "execution_count": null,
      "metadata": {
        "id": "-vbAbyXaoYoN"
      },
      "outputs": [],
      "source": [
        "from sklearn.preprocessing import MinMaxScaler\n",
        "# define min max scaler\n",
        "scaler = MinMaxScaler()\n",
        "# transform data\n",
        "X = scaler.fit_transform(X)"
      ]
    },
    {
      "cell_type": "code",
      "execution_count": null,
      "metadata": {
        "id": "fa4gQz_PoYoP"
      },
      "outputs": [],
      "source": [
        "from pandas import DataFrame\n",
        "X=DataFrame(X)"
      ]
    },
    {
      "cell_type": "code",
      "execution_count": null,
      "metadata": {
        "id": "ifK18dbooYoR"
      },
      "outputs": [],
      "source": [
        "X_train,X_test,y_train,y_test=train_test_split(X,y,test_size=0.2, random_state=123)\n",
        "X_train, X_val, y_train, y_val = train_test_split(X_train, y_train, test_size=0.3, random_state=123)"
      ]
    },
    {
      "cell_type": "code",
      "execution_count": null,
      "metadata": {
        "colab": {
          "base_uri": "https://localhost:8080/"
        },
        "id": "Y85C0q77oYoU",
        "outputId": "9dd575be-ac5f-4cb2-cc5d-64744888cb56"
      },
      "outputs": [
        {
          "output_type": "stream",
          "name": "stdout",
          "text": [
            "Model: \"sequential_27\"\n",
            "_________________________________________________________________\n",
            " Layer (type)                Output Shape              Param #   \n",
            "=================================================================\n",
            " dense_218 (Dense)           (None, 512)               20480     \n",
            "                                                                 \n",
            " dense_219 (Dense)           (None, 512)               262656    \n",
            "                                                                 \n",
            " dropout_168 (Dropout)       (None, 512)               0         \n",
            "                                                                 \n",
            " dense_220 (Dense)           (None, 256)               131328    \n",
            "                                                                 \n",
            " dropout_169 (Dropout)       (None, 256)               0         \n",
            "                                                                 \n",
            " dense_221 (Dense)           (None, 128)               32896     \n",
            "                                                                 \n",
            " dropout_170 (Dropout)       (None, 128)               0         \n",
            "                                                                 \n",
            " dense_222 (Dense)           (None, 64)                8256      \n",
            "                                                                 \n",
            " dropout_171 (Dropout)       (None, 64)                0         \n",
            "                                                                 \n",
            " dense_223 (Dense)           (None, 64)                4160      \n",
            "                                                                 \n",
            " dropout_172 (Dropout)       (None, 64)                0         \n",
            "                                                                 \n",
            " dense_224 (Dense)           (None, 64)                4160      \n",
            "                                                                 \n",
            " dropout_173 (Dropout)       (None, 64)                0         \n",
            "                                                                 \n",
            " dense_225 (Dense)           (None, 1)                 65        \n",
            "                                                                 \n",
            "=================================================================\n",
            "Total params: 464,001\n",
            "Trainable params: 464,001\n",
            "Non-trainable params: 0\n",
            "_________________________________________________________________\n"
          ]
        }
      ],
      "source": [
        "import tensorflow as tf\n",
        "from tensorflow import keras\n",
        "from keras.models import Sequential\n",
        "from keras.layers import Dense\n",
        "from tensorflow.keras.layers import Dropout \n",
        "tf.random.set_seed(123)\n",
        "\n",
        "model = Sequential() \n",
        "model.add(Dense(512, activation='relu', input_dim=39))\n",
        "model.add(Dense(512, activation='relu'))\n",
        "model.add(Dropout(0.5))\n",
        "model.add(Dense(256, activation='relu'))\n",
        "model.add(Dropout(0.5))\n",
        "model.add(Dense(128, activation='relu'))\n",
        "model.add(Dropout(0.2))\n",
        "model.add(Dense(64, activation='relu'))\n",
        "model.add(Dropout(0.5))\n",
        "model.add(Dense(64, activation='relu'))\n",
        "model.add(Dropout(0.2))\n",
        "model.add(Dense(64, activation='relu'))\n",
        "model.add(Dropout(0.2))\n",
        "model.add(Dense(1, activation='sigmoid')) \n",
        "opt = keras.optimizers.Adam(learning_rate=0.01)\n",
        "model.compile(loss='binary_crossentropy', optimizer=opt, metrics=['accuracy']) \n",
        "model.summary()"
      ]
    },
    {
      "cell_type": "code",
      "execution_count": null,
      "metadata": {
        "colab": {
          "base_uri": "https://localhost:8080/"
        },
        "id": "yW63rMZyoYoV",
        "outputId": "31cf0d60-e463-476a-918e-de4c6a031f2c"
      },
      "outputs": [
        {
          "output_type": "stream",
          "name": "stdout",
          "text": [
            "Epoch 1/10\n",
            "249/249 [==============================] - 7s 26ms/step - loss: 0.2995 - accuracy: 0.8752 - val_loss: 0.2687 - val_accuracy: 0.8943\n",
            "Epoch 2/10\n",
            "249/249 [==============================] - 4s 17ms/step - loss: 0.2876 - accuracy: 0.8852 - val_loss: 0.2413 - val_accuracy: 0.8935\n",
            "Epoch 3/10\n",
            "249/249 [==============================] - 4s 15ms/step - loss: 0.2955 - accuracy: 0.8797 - val_loss: 0.2651 - val_accuracy: 0.8943\n",
            "Epoch 4/10\n",
            "249/249 [==============================] - 4s 15ms/step - loss: 0.2852 - accuracy: 0.8797 - val_loss: 0.2512 - val_accuracy: 0.8966\n",
            "Epoch 5/10\n",
            "249/249 [==============================] - 4s 15ms/step - loss: 0.3028 - accuracy: 0.8782 - val_loss: 0.2721 - val_accuracy: 0.8917\n",
            "Epoch 6/10\n",
            "249/249 [==============================] - 4s 15ms/step - loss: 0.3036 - accuracy: 0.8824 - val_loss: 0.2754 - val_accuracy: 0.8874\n",
            "Epoch 7/10\n",
            "249/249 [==============================] - 4s 15ms/step - loss: 0.2944 - accuracy: 0.8765 - val_loss: 0.2377 - val_accuracy: 0.8968\n",
            "Epoch 8/10\n",
            "249/249 [==============================] - 4s 15ms/step - loss: 0.3739 - accuracy: 0.8536 - val_loss: 0.2956 - val_accuracy: 0.8912\n",
            "Epoch 9/10\n",
            "249/249 [==============================] - 4s 16ms/step - loss: 0.3278 - accuracy: 0.8477 - val_loss: 0.2793 - val_accuracy: 0.8400\n"
          ]
        }
      ],
      "source": [
        "callback = tf.keras.callbacks.EarlyStopping(monitor='loss', patience=5)\n",
        "hist = model.fit(X_train, y_train, validation_data=(X_val, y_val), epochs=10,batch_size=100,shuffle=True,callbacks=callback)"
      ]
    },
    {
      "cell_type": "code",
      "source": [
        "sns.set()\n",
        "acc = hist.history['accuracy']\n",
        "val = hist.history['val_accuracy']\n",
        "epochs = range(1, len(acc) + 1)\n",
        " \n",
        "plt.plot(epochs, acc, '-', label='Training accuracy')\n",
        "plt.plot(epochs, val, ':', label='Validation accuracy')\n",
        "plt.title('Training and Validation Accuracy')\n",
        "plt.xlabel('Epoch')\n",
        "plt.ylabel('Accuracy')\n",
        "plt.legend(loc='lower right')\n",
        "plt.plot()"
      ],
      "metadata": {
        "colab": {
          "base_uri": "https://localhost:8080/",
          "height": 318
        },
        "id": "kyYBEj_4rhDM",
        "outputId": "47180ec2-dfac-4350-a250-80cde35d4dfe"
      },
      "execution_count": null,
      "outputs": [
        {
          "output_type": "execute_result",
          "data": {
            "text/plain": [
              "[]"
            ]
          },
          "metadata": {},
          "execution_count": 151
        },
        {
          "output_type": "display_data",
          "data": {
            "text/plain": [
              "<Figure size 432x288 with 1 Axes>"
            ],
            "image/png": "[encoded data removed]"
          },
          "metadata": {}
        }
      ]
    },
    {
      "cell_type": "code",
      "source": [
        "from sklearn.metrics import confusion_matrix\n",
        " \n",
        "y_predicted = model.predict(X_test)\n",
        "y_predicted=y_predicted.astype(int)\n",
        "mat = confusion_matrix(y_test, y_predicted)\n",
        "labels = ['>50', '<50']\n",
        " \n",
        "sns.heatmap(mat, square=True, annot=True, fmt='d', cbar=False, cmap='Blues',\n",
        "            xticklabels=labels, yticklabels=labels)\n",
        " \n",
        "plt.xlabel('Predicted label')\n",
        "plt.ylabel('Actual label')"
      ],
      "metadata": {
        "colab": {
          "base_uri": "https://localhost:8080/",
          "height": 302
        },
        "id": "B_-4ZQwQr2hq",
        "outputId": "2c035161-28c3-4949-d6e5-474fe512972c"
      },
      "execution_count": null,
      "outputs": [
        {
          "output_type": "execute_result",
          "data": {
            "text/plain": [
              "Text(89.18, 0.5, 'Actual label')"
            ]
          },
          "metadata": {},
          "execution_count": 152
        },
        {
          "output_type": "display_data",
          "data": {
            "text/plain": [
              "<Figure size 432x288 with 1 Axes>"
            ],
            "image/png": "[encoded data removed]"
          },
          "metadata": {}
        }
      ]
    },
    {
      "cell_type": "code",
      "source": [
        "\n",
        "accuracy_score(y_test, np.round(abs(y_predicted)), normalize=True) \n"
      ],
      "metadata": {
        "colab": {
          "base_uri": "https://localhost:8080/"
        },
        "id": "f6ZZkdhdtGGr",
        "outputId": "1ef71748-ae0b-4279-8e11-bf349c27f2d4"
      },
      "execution_count": null,
      "outputs": [
        {
          "output_type": "execute_result",
          "data": {
            "text/plain": [
              "0.8392977717758271"
            ]
          },
          "metadata": {},
          "execution_count": 153
        }
      ]
    }
  ],
  "metadata": {
    "colab": {
      "provenance": []
    },
    "kernelspec": {
      "display_name": "first-env",
      "language": "python",
      "name": "first-env"
    },
    "language_info": {
      "codemirror_mode": {
        "name": "ipython",
        "version": 3
      },
      "file_extension": ".py",
      "mimetype": "text/x-python",
      "name": "python",
      "nbconvert_exporter": "python",
      "pygments_lexer": "ipython3",
      "version": "3.9.7"
    }
  },
  "nbformat": 4,
  "nbformat_minor": 0
}